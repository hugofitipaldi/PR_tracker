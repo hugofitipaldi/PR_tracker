{
 "cells": [
  {
   "attachments": {},
   "cell_type": "markdown",
   "metadata": {},
   "source": [
    "## Exercise Tracker with 1RM Estimation and Progress Visualization\n",
    "\n",
    "This Jupyter notebook presents a Python-based tool for tracking strength training exercises. The tool, implemented in the form of a class named ExerciseTracker, allows users to log each exercise session, including the name of the exercise, weight lifted, and repetitions performed.\n",
    "\n",
    "One unique feature of this tool is its ability to estimate the user's one-repetition maximum (1RM) for each logged exercise, using a commonly-used estimation formula:"
   ]
  },
  {
   "attachments": {},
   "cell_type": "markdown",
   "metadata": {},
   "source": [
    "`1RM = weight + (weight * reps * 0.0333)`"
   ]
  },
  {
   "attachments": {},
   "cell_type": "markdown",
   "metadata": {},
   "source": [
    "In addition to tracking exercise sessions and estimating 1RM, the ExerciseTracker class provides a function for visualizing the progression of the estimated 1RM over time. The function generates a scatter plot that represents the estimated 1RM for a given exercise on each day it was performed. This feature enables users to visually track their progress and monitor improvements in strength over time.\n",
    "\n",
    "The tracker supports multiple exercises and keeps each exercise log separate for individual analysis. The data is maintained in a pandas DataFrame, making it easy to manipulate and analyze outside the class methods if desired.\n",
    "\n",
    "By providing an efficient way to log, calculate, and visualize strength progress, this tool can help users to stay motivated and focused on their fitness goals."
   ]
  },
  {
   "attachments": {},
   "cell_type": "markdown",
   "metadata": {},
   "source": [
    "### Importing libraries"
   ]
  },
  {
   "cell_type": "code",
   "execution_count": 34,
   "metadata": {},
   "outputs": [],
   "source": [
    "import pandas as pd\n",
    "import matplotlib.pyplot as plt\n",
    "from datetime import datetime"
   ]
  },
  {
   "attachments": {},
   "cell_type": "markdown",
   "metadata": {},
   "source": [
    "### Simple version"
   ]
  },
  {
   "cell_type": "code",
   "execution_count": 1,
   "metadata": {},
   "outputs": [],
   "source": [
    "class ExerciseTracker:\n",
    "    def __init__(self):\n",
    "        self.exercises = {}\n",
    "\n",
    "    def log_exercise(self, name, weight, reps):\n",
    "        self.exercises[name] = {\n",
    "            'weight': weight,\n",
    "            'reps': reps\n",
    "        }\n",
    "\n",
    "    def calculate_1rm(self, name):\n",
    "        exercise = self.exercises.get(name)\n",
    "        if exercise:\n",
    "            weight = exercise['weight']\n",
    "            reps = exercise['reps']\n",
    "            return weight + (weight * reps * 0.0333)\n",
    "        else:\n",
    "            print(f\"No data for exercise {name}\")\n",
    "            return None\n"
   ]
  },
  {
   "cell_type": "code",
   "execution_count": 2,
   "metadata": {},
   "outputs": [],
   "source": [
    "tracker = ExerciseTracker()"
   ]
  },
  {
   "cell_type": "code",
   "execution_count": 3,
   "metadata": {},
   "outputs": [],
   "source": [
    "name = 'Snatch'\n",
    "weight = 50\n",
    "reps = 5\n",
    "tracker.log_exercise(name, weight, reps)"
   ]
  },
  {
   "cell_type": "code",
   "execution_count": 4,
   "metadata": {},
   "outputs": [
    {
     "name": "stdout",
     "output_type": "stream",
     "text": [
      "The estimated 1RM for Snatch is 58.325 kg\n"
     ]
    }
   ],
   "source": [
    "name = 'Snatch'\n",
    "result = tracker.calculate_1rm(name)\n",
    "if result:\n",
    "    print(f\"The estimated 1RM for {name} is {result} kg\")"
   ]
  },
  {
   "attachments": {},
   "cell_type": "markdown",
   "metadata": {},
   "source": [
    "### Dataframe version"
   ]
  },
  {
   "attachments": {},
   "cell_type": "markdown",
   "metadata": {},
   "source": [
    "This block of code initializes a dictionary, data, which will serve as the base data for the ExerciseTracker. The dictionary contains four keys: 'Exercise', 'Weight', 'Reps', and 'Date'. Each of these keys corresponds to a different attribute of the exercise routines.\n",
    "\n",
    "* Exercise: This represents a list of different exercises the user will be tracking.\n",
    "* Weight: This is a list of the weights (in kilograms) that the user lifted for the corresponding exercise.\n",
    "* Reps: This is a list of the number of repetitions the user performed for the corresponding exercise. Note that for this initial data, all the exercises are logged with one repetition (1RM).\n",
    "* Date: This is a list of the dates on which the exercises were performed. 2023-06-01 was used as the baseline date.\n",
    "\n",
    "The dictionary data is then converted into a pandas DataFrame, df, which will serve as the initial state of the ExerciseTracker. This DataFrame will then be used to log, track, and visualize the user's exercise routine."
   ]
  },
  {
   "cell_type": "code",
   "execution_count": 59,
   "metadata": {},
   "outputs": [],
   "source": [
    "data = {\n",
    "    'Exercise': ['Front Squat', 'Snatch', 'Back Squat', 'Power Snatch', 'Deadlift', 'Power Clean', 'Clean and Jerk', 'Push Jerk', 'Split Jerk', 'Bench Press', 'Hang Snatch', 'Overhead Squat', 'Push Press', 'Hang Clean', 'Clean', 'Strict Press'],\n",
    "    'Weight': [92.5, 65,110,57.5,110,75,70,62.5,72.5,70,57.5,57.5,52.5,70,82.5,50],\n",
    "    'Reps': [1, 1,1,1,1,1,1,1,1,1,1,1,1,1,1,1],\n",
    "    'Date': pd.to_datetime(['2023-06-01', '2023-06-01', '2023-06-01', '2023-06-01', '2023-06-01', '2023-06-01', '2023-06-01', '2023-06-01', '2023-06-01', '2023-06-01', '2023-06-01', '2023-06-01', '2023-06-01', '2023-06-01', '2023-06-01', '2023-06-01'])  # convert strings to datetime\n",
    "}\n",
    "\n",
    "df = pd.DataFrame(data)"
   ]
  },
  {
   "cell_type": "code",
   "execution_count": 60,
   "metadata": {},
   "outputs": [
    {
     "data": {
      "text/html": [
       "<div>\n",
       "<style scoped>\n",
       "    .dataframe tbody tr th:only-of-type {\n",
       "        vertical-align: middle;\n",
       "    }\n",
       "\n",
       "    .dataframe tbody tr th {\n",
       "        vertical-align: top;\n",
       "    }\n",
       "\n",
       "    .dataframe thead th {\n",
       "        text-align: right;\n",
       "    }\n",
       "</style>\n",
       "<table border=\"1\" class=\"dataframe\">\n",
       "  <thead>\n",
       "    <tr style=\"text-align: right;\">\n",
       "      <th></th>\n",
       "      <th>Exercise</th>\n",
       "      <th>Weight</th>\n",
       "      <th>Reps</th>\n",
       "      <th>Date</th>\n",
       "    </tr>\n",
       "  </thead>\n",
       "  <tbody>\n",
       "    <tr>\n",
       "      <th>0</th>\n",
       "      <td>Front Squat</td>\n",
       "      <td>92.5</td>\n",
       "      <td>1</td>\n",
       "      <td>2023-06-01</td>\n",
       "    </tr>\n",
       "    <tr>\n",
       "      <th>1</th>\n",
       "      <td>Snatch</td>\n",
       "      <td>65.0</td>\n",
       "      <td>1</td>\n",
       "      <td>2023-06-01</td>\n",
       "    </tr>\n",
       "    <tr>\n",
       "      <th>2</th>\n",
       "      <td>Back Squat</td>\n",
       "      <td>110.0</td>\n",
       "      <td>1</td>\n",
       "      <td>2023-06-01</td>\n",
       "    </tr>\n",
       "    <tr>\n",
       "      <th>3</th>\n",
       "      <td>Power Snatch</td>\n",
       "      <td>57.5</td>\n",
       "      <td>1</td>\n",
       "      <td>2023-06-01</td>\n",
       "    </tr>\n",
       "    <tr>\n",
       "      <th>4</th>\n",
       "      <td>Deadlift</td>\n",
       "      <td>110.0</td>\n",
       "      <td>1</td>\n",
       "      <td>2023-06-01</td>\n",
       "    </tr>\n",
       "    <tr>\n",
       "      <th>5</th>\n",
       "      <td>Power Clean</td>\n",
       "      <td>75.0</td>\n",
       "      <td>1</td>\n",
       "      <td>2023-06-01</td>\n",
       "    </tr>\n",
       "    <tr>\n",
       "      <th>6</th>\n",
       "      <td>Clean and Jerk</td>\n",
       "      <td>70.0</td>\n",
       "      <td>1</td>\n",
       "      <td>2023-06-01</td>\n",
       "    </tr>\n",
       "    <tr>\n",
       "      <th>7</th>\n",
       "      <td>Push Jerk</td>\n",
       "      <td>62.5</td>\n",
       "      <td>1</td>\n",
       "      <td>2023-06-01</td>\n",
       "    </tr>\n",
       "    <tr>\n",
       "      <th>8</th>\n",
       "      <td>Split Jerk</td>\n",
       "      <td>72.5</td>\n",
       "      <td>1</td>\n",
       "      <td>2023-06-01</td>\n",
       "    </tr>\n",
       "    <tr>\n",
       "      <th>9</th>\n",
       "      <td>Bench Press</td>\n",
       "      <td>70.0</td>\n",
       "      <td>1</td>\n",
       "      <td>2023-06-01</td>\n",
       "    </tr>\n",
       "    <tr>\n",
       "      <th>10</th>\n",
       "      <td>Hang Snatch</td>\n",
       "      <td>57.5</td>\n",
       "      <td>1</td>\n",
       "      <td>2023-06-01</td>\n",
       "    </tr>\n",
       "    <tr>\n",
       "      <th>11</th>\n",
       "      <td>Overhead Squat</td>\n",
       "      <td>57.5</td>\n",
       "      <td>1</td>\n",
       "      <td>2023-06-01</td>\n",
       "    </tr>\n",
       "    <tr>\n",
       "      <th>12</th>\n",
       "      <td>Push Press</td>\n",
       "      <td>52.5</td>\n",
       "      <td>1</td>\n",
       "      <td>2023-06-01</td>\n",
       "    </tr>\n",
       "    <tr>\n",
       "      <th>13</th>\n",
       "      <td>Hang Clean</td>\n",
       "      <td>70.0</td>\n",
       "      <td>1</td>\n",
       "      <td>2023-06-01</td>\n",
       "    </tr>\n",
       "    <tr>\n",
       "      <th>14</th>\n",
       "      <td>Clean</td>\n",
       "      <td>82.5</td>\n",
       "      <td>1</td>\n",
       "      <td>2023-06-01</td>\n",
       "    </tr>\n",
       "    <tr>\n",
       "      <th>15</th>\n",
       "      <td>Strict Press</td>\n",
       "      <td>50.0</td>\n",
       "      <td>1</td>\n",
       "      <td>2023-06-01</td>\n",
       "    </tr>\n",
       "  </tbody>\n",
       "</table>\n",
       "</div>"
      ],
      "text/plain": [
       "          Exercise  Weight  Reps       Date\n",
       "0      Front Squat    92.5     1 2023-06-01\n",
       "1           Snatch    65.0     1 2023-06-01\n",
       "2       Back Squat   110.0     1 2023-06-01\n",
       "3     Power Snatch    57.5     1 2023-06-01\n",
       "4         Deadlift   110.0     1 2023-06-01\n",
       "5      Power Clean    75.0     1 2023-06-01\n",
       "6   Clean and Jerk    70.0     1 2023-06-01\n",
       "7        Push Jerk    62.5     1 2023-06-01\n",
       "8       Split Jerk    72.5     1 2023-06-01\n",
       "9      Bench Press    70.0     1 2023-06-01\n",
       "10     Hang Snatch    57.5     1 2023-06-01\n",
       "11  Overhead Squat    57.5     1 2023-06-01\n",
       "12      Push Press    52.5     1 2023-06-01\n",
       "13      Hang Clean    70.0     1 2023-06-01\n",
       "14           Clean    82.5     1 2023-06-01\n",
       "15    Strict Press    50.0     1 2023-06-01"
      ]
     },
     "execution_count": 60,
     "metadata": {},
     "output_type": "execute_result"
    }
   ],
   "source": [
    "df"
   ]
  },
  {
   "attachments": {},
   "cell_type": "markdown",
   "metadata": {},
   "source": [
    "The `ExerciseTracker` class serves as the primary tool for managing and analyzing the user's exercise routines. It contains several methods, each serving a specific purpose:\n",
    "\n",
    "* `__init__`: This method initializes the `ExerciseTracker` object with a pandas DataFrame, which will store the exercise data.\n",
    "* `log_exercise`: This method allows the user to log an exercise session, including the exercise name, weight lifted, repetitions performed, and the date of the exercise. This data is appended to the existing DataFrame.\n",
    "* `calculate_1rm`: This method calculates and returns the estimated one-repetition maximum (1RM) for a specific exercise. It utilizes the formula 1RM = weight + (weight * reps * 0.0333) for this estimation.\n",
    "* `plot_1rm`: This method generates a scatter plot showing the estimated 1RM over time for a specific exercise. It plots the dates (on which the exercise was performed) against the estimated 1RM values. A line connects the points to better visualize the progression.\n",
    "\n",
    "The functionality of this class allows for easy logging of exercise data, calculation of 1RM, and visual tracking of progress over time."
   ]
  },
  {
   "cell_type": "code",
   "execution_count": 61,
   "metadata": {},
   "outputs": [],
   "source": [
    "class ExerciseTracker:\n",
    "    def __init__(self, df):\n",
    "        self.df = df\n",
    "\n",
    "    def log_exercise(self, name, weight, reps, date=datetime.now()):\n",
    "        new_data = {\n",
    "            'Exercise': [name],\n",
    "            'Weight': [weight],\n",
    "            'Reps': [reps],\n",
    "            'Date': [pd.to_datetime(date)]  # convert to datetime\n",
    "        }\n",
    "        new_df = pd.DataFrame(new_data)\n",
    "        self.df = pd.concat([self.df, new_df], ignore_index=True)\n",
    "\n",
    "    def calculate_1rm(self, name):\n",
    "        exercise_data = self.df[self.df['Exercise'] == name]\n",
    "        if not exercise_data.empty:\n",
    "            weight = exercise_data['Weight'].iloc[-1]  # get the latest weight\n",
    "            reps = exercise_data['Reps'].iloc[-1]  # get the latest reps\n",
    "            return weight + (weight * reps * 0.0333)\n",
    "        else:\n",
    "            print(f\"No data for exercise {name}\")\n",
    "            return None\n",
    "    def plot_1rm(self, name):\n",
    "        exercise_data = self.df[self.df['Exercise'] == name]\n",
    "        if not exercise_data.empty:\n",
    "            dates = exercise_data['Date'].dt.strftime('%Y-%m-%d')  # convert to string format\n",
    "            weights = exercise_data['Weight']\n",
    "            reps = exercise_data['Reps']\n",
    "            estimated_1rm = weights + (weights * reps * 0.0333)\n",
    "\n",
    "            plt.figure(figsize=(10, 6))\n",
    "            plt.scatter(dates, estimated_1rm)\n",
    "            plt.plot(dates, estimated_1rm)\n",
    "            plt.title(f'Estimated 1RM for {name} Over Time')\n",
    "            plt.xlabel('Date')\n",
    "            plt.ylabel('Estimated 1RM (kg)')\n",
    "            plt.xticks(rotation=45)  # rotate the x-axis labels for better readability\n",
    "\n",
    "            # Make x-axis display only dates that have data\n",
    "            ax = plt.gca()  # get current axis\n",
    "            ax.set_xticks(dates)  # set x-axis ticks to dates that have data\n",
    "\n",
    "            plt.tight_layout()  # adjust the layout for better readability\n",
    "            plt.show()\n",
    "        else:\n",
    "            print(f\"No data for exercise {name}\")"
   ]
  },
  {
   "cell_type": "code",
   "execution_count": 62,
   "metadata": {},
   "outputs": [],
   "source": [
    "tracker = ExerciseTracker(df)\n",
    "tracker.log_exercise('Back Squat', 90, 3, '2023-06-08')"
   ]
  },
  {
   "cell_type": "code",
   "execution_count": 63,
   "metadata": {},
   "outputs": [
    {
     "name": "stdout",
     "output_type": "stream",
     "text": [
      "The estimated 1RM for Back Squat is 98.991 kg\n"
     ]
    }
   ],
   "source": [
    "result = tracker.calculate_1rm('Back Squat')\n",
    "if result:\n",
    "    print(f\"The estimated 1RM for Back Squat is {result} kg\")"
   ]
  },
  {
   "cell_type": "code",
   "execution_count": 64,
   "metadata": {},
   "outputs": [
    {
     "name": "stdout",
     "output_type": "stream",
     "text": [
      "          Exercise  Weight  Reps       Date\n",
      "0      Front Squat    92.5     1 2023-06-01\n",
      "1           Snatch    65.0     1 2023-06-01\n",
      "2       Back Squat   110.0     1 2023-06-01\n",
      "3     Power Snatch    57.5     1 2023-06-01\n",
      "4         Deadlift   110.0     1 2023-06-01\n",
      "5      Power Clean    75.0     1 2023-06-01\n",
      "6   Clean and Jerk    70.0     1 2023-06-01\n",
      "7        Push Jerk    62.5     1 2023-06-01\n",
      "8       Split Jerk    72.5     1 2023-06-01\n",
      "9      Bench Press    70.0     1 2023-06-01\n",
      "10     Hang Snatch    57.5     1 2023-06-01\n",
      "11  Overhead Squat    57.5     1 2023-06-01\n",
      "12      Push Press    52.5     1 2023-06-01\n",
      "13      Hang Clean    70.0     1 2023-06-01\n",
      "14           Clean    82.5     1 2023-06-01\n",
      "15    Strict Press    50.0     1 2023-06-01\n",
      "16      Back Squat    90.0     3 2023-06-08\n"
     ]
    }
   ],
   "source": [
    "print(tracker.df)"
   ]
  },
  {
   "cell_type": "code",
   "execution_count": 65,
   "metadata": {},
   "outputs": [
    {
     "data": {
      "image/png": "[encoded data removed]",
      "text/plain": [
       "<Figure size 1000x600 with 1 Axes>"
      ]
     },
     "metadata": {},
     "output_type": "display_data"
    }
   ],
   "source": [
    "tracker.plot_1rm('Back Squat')"
   ]
  },
  {
   "cell_type": "code",
   "execution_count": 25,
   "metadata": {},
   "outputs": [],
   "source": [
    "tracker.df.to_csv('exercise_log.csv', index=False)"
   ]
  },
  {
   "cell_type": "code",
   "execution_count": null,
   "metadata": {},
   "outputs": [],
   "source": []
  },
  {
   "cell_type": "code",
   "execution_count": null,
   "metadata": {},
   "outputs": [],
   "source": [
    "df = pd.read_csv('exercise_log.csv')\n",
    "tracker = ExerciseTracker(df)"
   ]
  }
 ],
 "metadata": {
  "kernelspec": {
   "display_name": "fastai",
   "language": "python",
   "name": "python3"
  },
  "language_info": {
   "codemirror_mode": {
    "name": "ipython",
    "version": 3
   },
   "file_extension": ".py",
   "mimetype": "text/x-python",
   "name": "python",
   "nbconvert_exporter": "python",
   "pygments_lexer": "ipython3",
   "version": "3.10.4"
  },
  "orig_nbformat": 4
 },
 "nbformat": 4,
 "nbformat_minor": 2
}
