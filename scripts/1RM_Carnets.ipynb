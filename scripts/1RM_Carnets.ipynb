{
 "cells": [
  {
   "cell_type": "code",
   "execution_count": 1,
   "metadata": {},
   "outputs": [],
   "source": [
    "import pandas as pd\n",
    "import matplotlib.pyplot as plt\n",
    "from datetime import datetime\n",
    "import ipywidgets as widgets\n",
    "from IPython.display import display"
   ]
  },
  {
   "cell_type": "code",
   "execution_count": 2,
   "metadata": {},
   "outputs": [],
   "source": [
    "class ExerciseTracker:\n",
    "    def __init__(self, df):\n",
    "        self.df = df\n",
    "\n",
    "    def log_exercise(self, name, weight, reps, date=datetime.now().date()):\n",
    "        new_data = {\n",
    "            'Exercise': [name],\n",
    "            'Weight': [weight],\n",
    "            'Reps': [reps],\n",
    "            'Date': [pd.to_datetime(date)]  # convert to datetime\n",
    "        }\n",
    "        new_df = pd.DataFrame(new_data)\n",
    "        self.df = pd.concat([self.df, new_df], ignore_index=True)\n",
    "\n",
    "    def calculate_1rm(self, name):\n",
    "        exercise_data = self.df[self.df['Exercise'] == name]\n",
    "        if not exercise_data.empty:\n",
    "            weight = exercise_data['Weight'].iloc[-1]  # get the latest weight\n",
    "            reps = exercise_data['Reps'].iloc[-1]  # get the latest reps\n",
    "            return weight + (weight * reps * 0.0333)\n",
    "        else:\n",
    "            print(f\"No data for exercise {name}\")\n",
    "            return None\n",
    "    def plot_1rm(self, name):\n",
    "        exercise_data = self.df[self.df['Exercise'] == name]\n",
    "        if not exercise_data.empty:\n",
    "            dates = exercise_data['Date'].dt.strftime('%Y-%m-%d')  # convert to string format\n",
    "            weights = exercise_data['Weight']\n",
    "            reps = exercise_data['Reps']\n",
    "            estimated_1rm = weights + (weights * reps * 0.0333)\n",
    "\n",
    "            plt.figure(figsize=(10, 6))\n",
    "            plt.scatter(dates, estimated_1rm)\n",
    "            plt.plot(dates, estimated_1rm)\n",
    "            plt.title(f'Estimated 1RM for {name} Over Time')\n",
    "            plt.xlabel('Date')\n",
    "            plt.ylabel('Estimated 1RM (kg)')\n",
    "            plt.xticks(rotation=45)  # rotate the x-axis labels for better readability\n",
    "\n",
    "            # Make x-axis display only dates that have data\n",
    "            ax = plt.gca()  # get current axis\n",
    "            ax.set_xticks(dates)  # set x-axis ticks to dates that have data\n",
    "\n",
    "            plt.tight_layout()  # adjust the layout for better readability\n",
    "            plt.show()\n",
    "        else:\n",
    "            print(f\"No data for exercise {name}\")"
   ]
  },
  {
   "cell_type": "code",
   "execution_count": 3,
   "metadata": {},
   "outputs": [],
   "source": [
    "df = pd.read_csv('../data/exercise_log.csv', parse_dates=['Date'])\n",
    "tracker = ExerciseTracker(df)"
   ]
  },
  {
   "cell_type": "code",
   "execution_count": 4,
   "metadata": {},
   "outputs": [],
   "source": [
    "# Get unique exercise names from the DataFrame\n",
    "exercise_names = df['Exercise'].unique()\n",
    "\n",
    "# Create input widgets\n",
    "exercise_name_input = widgets.Dropdown(description='Exercise Name:', options=exercise_names)\n",
    "weight_input = widgets.FloatText(description='Weight (kg):', value=90)\n",
    "reps_input = widgets.IntText(description='Reps:', value=3)\n",
    "date_input = widgets.DatePicker(description='Date:', value=datetime.now().date())\n",
    "\n",
    "# Create output widgets\n",
    "output = widgets.Output()\n",
    "plot_output = widgets.Output()\n",
    "\n",
    "# Create button and define its click event handler\n",
    "button = widgets.Button(description='Log Exercise')\n",
    "\n",
    "def log_exercise(button):\n",
    "    with output, plot_output:\n",
    "        exercise_name = exercise_name_input.value\n",
    "        weight = weight_input.value\n",
    "        reps = reps_input.value\n",
    "        date = date_input.value.strftime('%Y-%m-%d')\n",
    "\n",
    "        tracker.log_exercise(exercise_name, weight, reps, date)\n",
    "        result = tracker.calculate_1rm(exercise_name)\n",
    "        if result:\n",
    "            print(f\"The estimated 1RM for {exercise_name} is {result} kg\")\n",
    "        tracker.plot_1rm(exercise_name)\n",
    "\n",
    "# Associate the button click event handler with the button\n",
    "button.on_click(log_exercise)"
   ]
  },
  {
   "cell_type": "code",
   "execution_count": 5,
   "metadata": {},
   "outputs": [
    {
     "data": {
      "application/vnd.jupyter.widget-view+json": {
       "model_id": "bd90feb1b4a447f09aee81d63b40bb3d",
       "version_major": 2,
       "version_minor": 0
      },
      "text/plain": [
       "Dropdown(description='Exercise Name:', options=('Front Squat', 'Snatch', 'Back Squat', 'Power Snatch', 'Deadli…"
      ]
     },
     "metadata": {},
     "output_type": "display_data"
    },
    {
     "data": {
      "application/vnd.jupyter.widget-view+json": {
       "model_id": "908f14eb28224ebbb34f7b32c132da92",
       "version_major": 2,
       "version_minor": 0
      },
      "text/plain": [
       "FloatText(value=90.0, description='Weight (kg):')"
      ]
     },
     "metadata": {},
     "output_type": "display_data"
    },
    {
     "data": {
      "application/vnd.jupyter.widget-view+json": {
       "model_id": "b18966f6763348699bacbbaa7a4bbd94",
       "version_major": 2,
       "version_minor": 0
      },
      "text/plain": [
       "IntText(value=3, description='Reps:')"
      ]
     },
     "metadata": {},
     "output_type": "display_data"
    },
    {
     "data": {
      "application/vnd.jupyter.widget-view+json": {
       "model_id": "ac755ebc02fd42bfb7025f07cfd9d30f",
       "version_major": 2,
       "version_minor": 0
      },
      "text/plain": [
       "DatePicker(value=datetime.date(2023, 6, 16), description='Date:', step=1)"
      ]
     },
     "metadata": {},
     "output_type": "display_data"
    },
    {
     "data": {
      "application/vnd.jupyter.widget-view+json": {
       "model_id": "c9a291265dd84080a6c8a918e8792a41",
       "version_major": 2,
       "version_minor": 0
      },
      "text/plain": [
       "Button(description='Log Exercise', style=ButtonStyle())"
      ]
     },
     "metadata": {},
     "output_type": "display_data"
    },
    {
     "data": {
      "application/vnd.jupyter.widget-view+json": {
       "model_id": "7760885b655f49c09175e3028f9d93da",
       "version_major": 2,
       "version_minor": 0
      },
      "text/plain": [
       "Output()"
      ]
     },
     "metadata": {},
     "output_type": "display_data"
    },
    {
     "data": {
      "application/vnd.jupyter.widget-view+json": {
       "model_id": "d3677a05e3ef44a8a931481735375911",
       "version_major": 2,
       "version_minor": 0
      },
      "text/plain": [
       "Output()"
      ]
     },
     "metadata": {},
     "output_type": "display_data"
    }
   ],
   "source": [
    "# Display the widgets and output\n",
    "display(exercise_name_input, weight_input, reps_input, date_input, button)\n",
    "display(output, plot_output)"
   ]
  },
  {
   "cell_type": "code",
   "execution_count": null,
   "metadata": {},
   "outputs": [],
   "source": []
  }
 ],
 "metadata": {
  "kernelspec": {
   "display_name": "fastai",
   "language": "python",
   "name": "python3"
  },
  "language_info": {
   "codemirror_mode": {
    "name": "ipython",
    "version": 3
   },
   "file_extension": ".py",
   "mimetype": "text/x-python",
   "name": "python",
   "nbconvert_exporter": "python",
   "pygments_lexer": "ipython3",
   "version": "3.10.4"
  },
  "orig_nbformat": 4
 },
 "nbformat": 4,
 "nbformat_minor": 2
}
